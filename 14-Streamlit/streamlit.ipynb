{
 "cells": [
  {
   "cell_type": "markdown",
   "id": "7419f7d8",
   "metadata": {},
   "source": [
    "# Introduction to Streamlit\n",
    "\n",
    "Streamlit is an open source app framework for Machine Learning and Data Science Projects. It aloows you to crerat beautiful web applications for your Machine Learning and Data Science Projects with simple Python scripts."
   ]
  }
 ],
 "metadata": {
  "language_info": {
   "name": "python"
  }
 },
 "nbformat": 4,
 "nbformat_minor": 5
}
