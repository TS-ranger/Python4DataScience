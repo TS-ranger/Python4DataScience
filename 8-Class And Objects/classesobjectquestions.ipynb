{
 "cells": [
  {
   "cell_type": "markdown",
   "metadata": {},
   "source": [
    "# Module: Classes and Objects Assignments\n",
    "## Lesson: Creating and Working with Classes and Objects\n",
    "### Assignment 1: Basic Class and Object Creation\n",
    "\n",
    "Create a class named `Car` with attributes `make`, `model`, and `year`. Create an object of the class and print its attributes."
   ]
  },
  {
   "cell_type": "code",
   "execution_count": 2,
   "metadata": {},
   "outputs": [
    {
     "name": "stdout",
     "output_type": "stream",
     "text": [
      "This Toyota Innova is manufactured at 2022\n"
     ]
    }
   ],
   "source": [
    "class Car:\n",
    "    def __init__(self, make, model, year):\n",
    "        self.make = make\n",
    "        self.model = model\n",
    "        self.year = year\n",
    "\n",
    "car = Car('Toyota', 'Innova', '2022')\n",
    "print(f\"This {car.make} {car.model} is manufactured at {car.year}\")"
   ]
  },
  {
   "cell_type": "markdown",
   "id": "17b3ba3f",
   "metadata": {},
   "source": [
    "### Assignment 2: Methods in Class\n",
    "\n",
    "Add a method named `start_engine` to the `Car` class that prints a message when the engine starts. Create an object of the class and call the method."
   ]
  },
  {
   "cell_type": "code",
   "execution_count": 5,
   "id": "dad73d50",
   "metadata": {},
   "outputs": [
    {
     "name": "stdout",
     "output_type": "stream",
     "text": [
      "This Toyota Innova is manufactured at 2022\n",
      "The engine has started.\n"
     ]
    }
   ],
   "source": [
    "class Car:\n",
    "    def __init__(self, make, model, year):\n",
    "        self.make = make\n",
    "        self.model = model\n",
    "        self.year = year\n",
    "\n",
    "    def start_engine(self):\n",
    "        print(\"The engine has started.\")\n",
    "\n",
    "car = Car('Toyota', 'Innova', '2022')\n",
    "print(f\"This {car.make} {car.model} is manufactured at {car.year}\")\n",
    "car.start_engine()"
   ]
  },
  {
   "cell_type": "markdown",
   "id": "b7c5fc20",
   "metadata": {},
   "source": [
    "### Assignment 3: Class with Constructor\n",
    "\n",
    "Create a class named `Student` with attributes `name` and `age`. Use a constructor to initialize these attributes. Create an object of the class and print its attributes."
   ]
  },
  {
   "cell_type": "code",
   "execution_count": 8,
   "id": "a9be9386",
   "metadata": {},
   "outputs": [
    {
     "name": "stdout",
     "output_type": "stream",
     "text": [
      "Tushar is a student of age 22\n"
     ]
    }
   ],
   "source": [
    "class Student:\n",
    "    def __init__(self, name, age):\n",
    "        self.name = name\n",
    "        self.age = age\n",
    "    \n",
    "student1 = Student('Tushar', 22)\n",
    "print(f\"{student1.name} is a student of age {student1.age}\")"
   ]
  },
  {
   "cell_type": "markdown",
   "id": "0988dfa0",
   "metadata": {},
   "source": [
    "### Assignment 4: Class with Private Attributes\n",
    "\n",
    "Create a class named `BankAccount` with private attributes `account_number` and `balance`. Add methods to deposit and withdraw money, and to check the balance. Create an object of the class and perform some operations."
   ]
  },
  {
   "cell_type": "code",
   "execution_count": null,
   "id": "fa18029a",
   "metadata": {},
   "outputs": [],
   "source": [
    "class BankAccount:\n",
    "    def __init__(self, account_number, balance=0):\n",
    "        self.__account_number = account_number\n",
    "        self.__balance = balance\n",
    "\n",
    "    def deposit(self, amount):\n",
    "        self.balance += amount\n",
    "\n",
    "    def withdraw(self, amount):\n",
    "        if self.balance <= 0:\n",
    "            print(\"Insufficient Balance!\")\n",
    "        else:\n",
    "            self.balance -= amount\n",
    "    \n",
    "    def get_balance(self):\n",
    "        print(f\"Your current balance is: {self.balance}\")\n",
    "\n",
    "account = BankAccount('123456789', 1000)\n",
    "        "
   ]
  },
  {
   "cell_type": "code",
   "execution_count": 6,
   "id": "afcc582e",
   "metadata": {},
   "outputs": [],
   "source": [
    "account.deposit(600)"
   ]
  },
  {
   "cell_type": "code",
   "execution_count": 7,
   "id": "f35f92cf",
   "metadata": {},
   "outputs": [
    {
     "name": "stdout",
     "output_type": "stream",
     "text": [
      "Your current balance is: 1600\n"
     ]
    }
   ],
   "source": [
    "account.get_balance()"
   ]
  },
  {
   "cell_type": "code",
   "execution_count": 8,
   "id": "b84ff819",
   "metadata": {},
   "outputs": [],
   "source": [
    "account.withdraw(900.99)"
   ]
  },
  {
   "cell_type": "code",
   "execution_count": 9,
   "id": "4046e28d",
   "metadata": {},
   "outputs": [
    {
     "name": "stdout",
     "output_type": "stream",
     "text": [
      "Your current balance is: 699.01\n"
     ]
    }
   ],
   "source": [
    "account.get_balance()"
   ]
  },
  {
   "cell_type": "markdown",
   "id": "5c6a0182",
   "metadata": {},
   "source": [
    "### Assignment 5: Class Inheritance\n",
    "\n",
    "Create a base class named `Person` with attributes `name` and `age`. Create a derived class named `Employee` that inherits from `Person` and adds an attribute `employee_id`. Create an object of the derived class and print its attributes."
   ]
  },
  {
   "cell_type": "code",
   "execution_count": 2,
   "id": "45b6df08",
   "metadata": {},
   "outputs": [
    {
     "name": "stdout",
     "output_type": "stream",
     "text": [
      "Tushar 22 UCSE1008\n"
     ]
    }
   ],
   "source": [
    "class Person:\n",
    "    def __init__(self, name, age):\n",
    "        self.name = name\n",
    "        self.age = age\n",
    "        \n",
    "class Employee(Person):\n",
    "    def __init__(self, name, age, employee_id):\n",
    "        super().__init__(name, age)\n",
    "        self.employee_id = employee_id\n",
    "\n",
    "employee = Employee('Tushar', 22, 'UCSE1008')\n",
    "print(employee.name, employee.age, employee.employee_id)"
   ]
  },
  {
   "cell_type": "markdown",
   "id": "0e7483d2",
   "metadata": {},
   "source": [
    "### Assignment 6: Method Overriding\n",
    "\n",
    "In the `Employee` class, override the `__str__` method to return a string representation of the object. Create an object of the class and print it."
   ]
  },
  {
   "cell_type": "code",
   "execution_count": 4,
   "id": "e29d7dc3",
   "metadata": {},
   "outputs": [
    {
     "name": "stdout",
     "output_type": "stream",
     "text": [
      "Employee(Name: Tushar, Age: 30, Employee ID: UCSE1008)\n"
     ]
    }
   ],
   "source": [
    "class Employee(Person):\n",
    "    def __init__(self, name, age, employee_id):\n",
    "        super().__init__(name, age)\n",
    "        self.employee_id = employee_id\n",
    "\n",
    "    def __str__(self):\n",
    "        return f\"Employee(Name: {self.name}, Age: {self.age}, Employee ID: {self.employee_id})\"\n",
    "    \n",
    "employee = Employee(\"Tushar\", 30, \"UCSE1008\")\n",
    "print(employee)"
   ]
  },
  {
   "cell_type": "markdown",
   "id": "68473796",
   "metadata": {},
   "source": [
    "### Assignment 7: Class Composition\n",
    "\n",
    "Create a class named `Address` with attributes `street`, `city`, and `zipcode`. Create a class named `Person` that has an `Address` object as an attribute. Create an object of the `Person` class and print its address."
   ]
  },
  {
   "cell_type": "code",
   "execution_count": 7,
   "id": "3d59243f",
   "metadata": {},
   "outputs": [
    {
     "name": "stdout",
     "output_type": "stream",
     "text": [
      "Tushar(Age: 22) lives in - T.R. Phukan Road, Bongaigaon, 783380\n"
     ]
    }
   ],
   "source": [
    "class Address:\n",
    "    def __init__(self, street, city, zipcode):\n",
    "        self.street = street\n",
    "        self.city = city\n",
    "        self.zipcode = zipcode\n",
    "\n",
    "class Person:\n",
    "    def __init__(self, name, age, address):\n",
    "        self.name = name\n",
    "        self.age = age\n",
    "        self.address = address\n",
    "\n",
    "address = Address('T.R. Phukan Road', 'Bongaigaon', '783380')\n",
    "person = Person('Tushar', 22, address)\n",
    "print(f\"{person.name}(Age: {person.age}) lives in - {person.address.street}, {person.address.city}, {person.address.zipcode}\")"
   ]
  },
  {
   "cell_type": "markdown",
   "id": "9a8a8f90",
   "metadata": {},
   "source": [
    "### Assignment 8: Class with Class Variables\n",
    "\n",
    "Create a class named `Counter` with a class variable `count`. Each time an object is created, increment the count. Add a method to get the current count. Create multiple objects and print the count."
   ]
  },
  {
   "cell_type": "code",
   "execution_count": 8,
   "id": "cc628eb6",
   "metadata": {},
   "outputs": [
    {
     "name": "stdout",
     "output_type": "stream",
     "text": [
      "2\n"
     ]
    }
   ],
   "source": [
    "class Counter:\n",
    "    count = 0\n",
    "\n",
    "    def __init__(self):\n",
    "        Counter.count += 1\n",
    "\n",
    "    @classmethod\n",
    "    def get_count(cls):\n",
    "        return cls.count\n",
    "    \n",
    "c1 = Counter()\n",
    "c2 = Counter()\n",
    "\n",
    "print(Counter.get_count())"
   ]
  },
  {
   "cell_type": "markdown",
   "id": "3e18a306",
   "metadata": {},
   "source": [
    "### Assignment 9: Static Methods\n",
    "\n",
    "Create a class named `MathOperations` with a static method to calculate the square root of a number. Call the static method without creating an object."
   ]
  },
  {
   "cell_type": "code",
   "execution_count": 11,
   "id": "b0a9e390",
   "metadata": {},
   "outputs": [
    {
     "name": "stdout",
     "output_type": "stream",
     "text": [
      "The square root of 4 is: 2.0\n"
     ]
    }
   ],
   "source": [
    "import math\n",
    "\n",
    "class MathOperations:\n",
    "    @staticmethod\n",
    "    def sqrt(x):\n",
    "        return math.sqrt(x)\n",
    "    \n",
    "print(f\"The square root of 4 is: {MathOperations.sqrt(4)}\")"
   ]
  },
  {
   "cell_type": "markdown",
   "id": "78f0ace6",
   "metadata": {},
   "source": [
    "### Assignment 10: Class with Properties\n",
    "\n",
    "Create a class named `Rectangle` with private attributes `length` and `width`. Use properties to get and set these attributes. Create an object of the class and test the properties.\n",
    "\n",
    "### Assignment 11: Abstract Base Class\n",
    "\n",
    "Create an abstract base class named `Shape` with an abstract method `area`. Create derived classes `Circle` and `Square` that implement the `area` method. Create objects of the derived classes and call the `area` method.\n",
    "\n",
    "### Assignment 12: Operator Overloading\n",
    "\n",
    "Create a class named `Vector` with attributes `x` and `y`. Overload the `+` operator to add two `Vector` objects. Create objects of the class and test the operator overloading.\n",
    "\n",
    "### Assignment 13: Class with Custom Exception\n",
    "\n",
    "Create a custom exception named `InsufficientBalanceError`. In the `BankAccount` class, raise this exception when a withdrawal amount is greater than the balance. Handle the exception and print an appropriate message.\n",
    "\n",
    "### Assignment 14: Class with Context Manager\n",
    "\n",
    "Create a class named `FileManager` that implements the context manager protocol to open and close a file. Use this class to read the contents of a file.\n",
    "\n",
    "### Assignment 15: Chaining Methods\n",
    "\n",
    "Create a class named `Calculator` with methods to add, subtract, multiply, and divide. Each method should return the object itself to allow method chaining. Create an object and chain multiple method calls."
   ]
  },
  {
   "cell_type": "markdown",
   "id": "b8869b68",
   "metadata": {},
   "source": []
  }
 ],
 "metadata": {
  "kernelspec": {
   "display_name": "Python 3",
   "language": "python",
   "name": "python3"
  },
  "language_info": {
   "codemirror_mode": {
    "name": "ipython",
    "version": 3
   },
   "file_extension": ".py",
   "mimetype": "text/x-python",
   "name": "python",
   "nbconvert_exporter": "python",
   "pygments_lexer": "ipython3",
   "version": "3.12.0"
  }
 },
 "nbformat": 4,
 "nbformat_minor": 5
}
