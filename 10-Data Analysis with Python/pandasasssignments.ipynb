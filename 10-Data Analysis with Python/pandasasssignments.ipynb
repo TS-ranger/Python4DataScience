{
 "cells": [
  {
   "cell_type": "markdown",
   "metadata": {},
   "source": [
    "# Module: Pandas Assignments\n",
    "## Lesson: Pandas\n",
    "### Assignment 1: DataFrame Creation and Indexing\n",
    "\n",
    "1. Create a Pandas DataFrame with 4 columns and 6 rows filled with random integers. Set the index to be the first column."
   ]
  },
  {
   "cell_type": "code",
   "execution_count": 46,
   "metadata": {},
   "outputs": [
    {
     "name": "stdout",
     "output_type": "stream",
     "text": [
      "Orginal DataFarme: \n",
      "    A   B   C   D\n",
      "0  16  15  12  20\n",
      "1  10   1   1  16\n",
      "2   2  14   3  15\n",
      "3  17  23   2   1\n",
      "4   6  20  21   9\n",
      "5  20  12  21   4\n",
      "DataFrame with new index: \n",
      "     B   C   D\n",
      "A             \n",
      "16  15  12  20\n",
      "10   1   1  16\n",
      "2   14   3  15\n",
      "17  23   2   1\n",
      "6   20  21   9\n",
      "20  12  21   4\n"
     ]
    }
   ],
   "source": [
    "import pandas as pd\n",
    "import numpy as np\n",
    "\n",
    "df = pd.DataFrame(np.random.randint(1, 25, size = (6, 4)), columns = ['A', 'B', 'C', 'D'])\n",
    "print(\"Orginal DataFarme: \")\n",
    "print(df)\n",
    "\n",
    "df.set_index('A', inplace = True)\n",
    "print(\"DataFrame with new index: \")\n",
    "print(df)"
   ]
  },
  {
   "cell_type": "markdown",
   "id": "9919e07f",
   "metadata": {},
   "source": [
    "2. Create a Pandas DataFrame with columns 'A', 'B', 'C' and index 'X', 'Y', 'Z'. Fill the DataFrame with random integers and access the element at row 'Y' and column 'B'."
   ]
  },
  {
   "cell_type": "code",
   "execution_count": 50,
   "id": "4f8bbea3",
   "metadata": {},
   "outputs": [
    {
     "name": "stdout",
     "output_type": "stream",
     "text": [
      "Orginal DataFrame: \n",
      "   A  B  C\n",
      "X  3  9  9\n",
      "Y  8  6  2\n",
      "Z  8  3  4\n",
      "The required element:  6\n"
     ]
    }
   ],
   "source": [
    "df = pd.DataFrame(np.random.randint(1, 10, size = (3, 3)), columns = ['A', 'B', 'C'], index = ['X', 'Y', 'Z'])\n",
    "print(\"Orginal DataFrame: \")\n",
    "print(df)\n",
    "\n",
    "print(\"The required element: \", df.at['Y', 'B'])"
   ]
  },
  {
   "cell_type": "markdown",
   "id": "fb98f0d0",
   "metadata": {},
   "source": [
    "### Assignment 2: DataFrame Operations\n",
    "\n",
    "1. Create a Pandas DataFrame with 3 columns and 5 rows filled with random integers. Add a new column that is the product of the first two columns."
   ]
  },
  {
   "cell_type": "code",
   "execution_count": 58,
   "id": "8bd1a03d",
   "metadata": {},
   "outputs": [
    {
     "name": "stdout",
     "output_type": "stream",
     "text": [
      "The orginal DataFrame: \n",
      "   A  B  C\n",
      "0  4  7  8\n",
      "1  5  2  4\n",
      "2  3  6  1\n",
      "3  1  7  3\n",
      "4  9  1  2\n",
      "Modified DataFrame: \n",
      "   A  B  C   D\n",
      "0  4  7  8  28\n",
      "1  5  2  4  10\n",
      "2  3  6  1  18\n",
      "3  1  7  3   7\n",
      "4  9  1  2   9\n"
     ]
    }
   ],
   "source": [
    "df = pd.DataFrame(np.random.randint(1, 10, size = (5, 3)), columns = ['A', 'B', 'C'])\n",
    "print(\"The orginal DataFrame: \")\n",
    "print(df)\n",
    "\n",
    "df['D'] = df['A'] * df['B']\n",
    "print(\"Modified DataFrame: \")\n",
    "print(df)"
   ]
  },
  {
   "cell_type": "markdown",
   "id": "dbd859d3",
   "metadata": {},
   "source": [
    "2. Create a Pandas DataFrame with 3 columns and 4 rows filled with random integers. Compute the row-wise and column-wise sum."
   ]
  },
  {
   "cell_type": "code",
   "execution_count": 66,
   "id": "6f6e3f99",
   "metadata": {},
   "outputs": [
    {
     "name": "stdout",
     "output_type": "stream",
     "text": [
      "Orginal DataFrame: \n",
      "   A  B  C\n",
      "A  3  4  7\n",
      "B  4  6  4\n",
      "C  3  5  1\n",
      "D  8  6  1\n",
      "Row-wise sum:\n",
      "A    14\n",
      "B    14\n",
      "C     9\n",
      "D    15\n",
      "dtype: int64\n",
      "Column-wise sum:\n",
      "A    18\n",
      "B    21\n",
      "C    13\n",
      "dtype: int64\n"
     ]
    }
   ],
   "source": [
    "df = pd.DataFrame(np.random.randint(1, 10, size = (4, 3)), columns = ['A', 'B', 'C'], index = ['A', 'B', 'C', 'D'])\n",
    "print(\"Orginal DataFrame: \")\n",
    "print(df)\n",
    "\n",
    "print(\"Row-wise sum:\")\n",
    "print(df.sum(axis = 1))\n",
    "print(\"Column-wise sum:\")\n",
    "print(df.sum(axis = 0))"
   ]
  },
  {
   "cell_type": "markdown",
   "id": "6d7ac367",
   "metadata": {},
   "source": [
    "### Assignment 3: Data Cleaning\n",
    "\n",
    "1. Create a Pandas DataFrame with 3 columns and 5 rows filled with random integers. Introduce some NaN values. Fill the NaN values with the mean of the respective columns."
   ]
  },
  {
   "cell_type": "code",
   "execution_count": 74,
   "id": "091339f4",
   "metadata": {},
   "outputs": [
    {
     "name": "stdout",
     "output_type": "stream",
     "text": [
      "Orginal DataFrame: \n",
      "   A  B  C\n",
      "0  1  8  8\n",
      "1  4  2  7\n",
      "2  2  5  9\n",
      "3  8  3  4\n",
      "4  3  2  6\n",
      "DataFrame with NaN values: \n",
      "     A    B    C\n",
      "0  1.0  NaN  8.0\n",
      "1  NaN  2.0  7.0\n",
      "2  2.0  5.0  9.0\n",
      "3  NaN  3.0  4.0\n",
      "4  3.0  2.0  NaN\n",
      "DataFrame with NaN values filled: \n",
      "     A    B    C\n",
      "0  1.0  3.0  8.0\n",
      "1  2.0  2.0  7.0\n",
      "2  2.0  5.0  9.0\n",
      "3  2.0  3.0  4.0\n",
      "4  3.0  2.0  7.0\n"
     ]
    }
   ],
   "source": [
    "df = pd.DataFrame(np.random.randint(1, 10, size = (5, 3)), columns = ['A', 'B', 'C'])\n",
    "print(\"Orginal DataFrame: \")\n",
    "print(df)\n",
    "\n",
    "df.iloc[0, 1] = np.nan\n",
    "df.iloc[1, 0] = np.nan\n",
    "df.iloc[3, 0] = np.nan\n",
    "df.iloc[4, 2] = np.nan\n",
    "\n",
    "print(\"DataFrame with NaN values: \")\n",
    "print(df)\n",
    "\n",
    "df.fillna(df.mean(), inplace = True)\n",
    "print(\"DataFrame with NaN values filled: \")\n",
    "print(df)"
   ]
  },
  {
   "cell_type": "markdown",
   "id": "13afa191",
   "metadata": {},
   "source": [
    "2. Create a Pandas DataFrame with 4 columns and 6 rows filled with random integers. Introduce some NaN values. Drop the rows with any NaN values."
   ]
  },
  {
   "cell_type": "code",
   "execution_count": 79,
   "id": "8b96c477",
   "metadata": {},
   "outputs": [
    {
     "name": "stdout",
     "output_type": "stream",
     "text": [
      "Orginal DataFrame: \n",
      "   A  B  C  D\n",
      "0  4  2  3  1\n",
      "1  3  5  5  9\n",
      "2  9  9  4  9\n",
      "3  4  9  2  7\n",
      "4  5  5  2  3\n",
      "5  6  6  8  5\n",
      "DataFrame with NaN values: \n",
      "   A    B    C    D\n",
      "0  4  NaN  3.0  1.0\n",
      "1  3  5.0  5.0  9.0\n",
      "2  9  9.0  4.0  NaN\n",
      "3  4  9.0  2.0  7.0\n",
      "4  5  5.0  NaN  3.0\n",
      "5  6  6.0  8.0  5.0\n",
      "DataFrame with NaN values dropped:\n",
      "   A    B    C    D\n",
      "1  3  5.0  5.0  9.0\n",
      "3  4  9.0  2.0  7.0\n",
      "5  6  6.0  8.0  5.0\n"
     ]
    }
   ],
   "source": [
    "df = pd.DataFrame(np.random.randint(1, 10, size = (6, 4)), columns = ['A', 'B', 'C', 'D'])\n",
    "print(\"Orginal DataFrame: \")\n",
    "print(df)\n",
    "\n",
    "df.iloc[0, 1] = np.nan\n",
    "df.iloc[2, 3] = np.nan\n",
    "df.iloc[4, 2] = np.nan\n",
    "print(\"DataFrame with NaN values: \")\n",
    "print(df)\n",
    "\n",
    "df.dropna(inplace=True)\n",
    "print(\"DataFrame with NaN values dropped:\")\n",
    "print(df)"
   ]
  },
  {
   "cell_type": "markdown",
   "id": "9625cfb1",
   "metadata": {},
   "source": [
    "### Assignment 4: Data Aggregation\n",
    "\n",
    "1. Create a Pandas DataFrame with 2 columns: 'Category' and 'Value'. Fill the 'Category' column with random categories ('A', 'B', 'C') and the 'Value' column with random integers. Group the DataFrame by 'Category' and compute the sum and mean of 'Value' for each category.\n",
    "2. Create a Pandas DataFrame with 3 columns: 'Product', 'Category', and 'Sales'. Fill the DataFrame with random data. Group the DataFrame by 'Category' and compute the total sales for each category.\n",
    "\n",
    "### Assignment 5: Merging DataFrames\n",
    "\n",
    "1. Create two Pandas DataFrames with a common column. Merge the DataFrames using the common column.\n",
    "2. Create two Pandas DataFrames with different columns. Concatenate the DataFrames along the rows and along the columns.\n",
    "\n",
    "### Assignment 6: Time Series Analysis\n",
    "\n",
    "1. Create a Pandas DataFrame with a datetime index and one column filled with random integers. Resample the DataFrame to compute the monthly mean of the values.\n",
    "2. Create a Pandas DataFrame with a datetime index ranging from '2021-01-01' to '2021-12-31' and one column filled with random integers. Compute the rolling mean with a window of 7 days.\n",
    "\n",
    "### Assignment 7: MultiIndex DataFrame\n",
    "\n",
    "1. Create a Pandas DataFrame with a MultiIndex (hierarchical index). Perform some basic indexing and slicing operations on the MultiIndex DataFrame.\n",
    "2. Create a Pandas DataFrame with MultiIndex consisting of 'Category' and 'SubCategory'. Fill the DataFrame with random data and compute the sum of values for each 'Category' and 'SubCategory'.\n",
    "\n",
    "### Assignment 8: Pivot Tables\n",
    "\n",
    "1. Create a Pandas DataFrame with columns 'Date', 'Category', and 'Value'. Create a pivot table to compute the sum of 'Value' for each 'Category' by 'Date'.\n",
    "2. Create a Pandas DataFrame with columns 'Year', 'Quarter', and 'Revenue'. Create a pivot table to compute the mean 'Revenue' for each 'Quarter' by 'Year'.\n",
    "\n",
    "### Assignment 9: Applying Functions\n",
    "\n",
    "1. Create a Pandas DataFrame with 3 columns and 5 rows filled with random integers. Apply a function that doubles the values of the DataFrame.\n",
    "2. Create a Pandas DataFrame with 3 columns and 6 rows filled with random integers. Apply a lambda function to create a new column that is the sum of the existing columns.\n",
    "\n",
    "### Assignment 10: Working with Text Data\n",
    "\n",
    "1. Create a Pandas Series with 5 random text strings. Convert all the strings to uppercase.\n",
    "2. Create a Pandas Series with 5 random text strings. Extract the first three characters of each string."
   ]
  }
 ],
 "metadata": {
  "kernelspec": {
   "display_name": "Python 3",
   "language": "python",
   "name": "python3"
  },
  "language_info": {
   "codemirror_mode": {
    "name": "ipython",
    "version": 3
   },
   "file_extension": ".py",
   "mimetype": "text/x-python",
   "name": "python",
   "nbconvert_exporter": "python",
   "pygments_lexer": "ipython3",
   "version": "3.12.0"
  }
 },
 "nbformat": 4,
 "nbformat_minor": 5
}
