{
 "cells": [
  {
   "cell_type": "markdown",
   "metadata": {},
   "source": [
    "# Module: NumPy Assignments\n",
    "## Lesson: NumPy\n",
    "### Assignment 1: Array Creation and Manipulation\n",
    "\n",
    "1. Create a NumPy array of shape (5, 5) filled with random integers between 1 and 20. Replace all the elements in the third column with 1."
   ]
  },
  {
   "cell_type": "code",
   "execution_count": 2,
   "metadata": {},
   "outputs": [
    {
     "name": "stdout",
     "output_type": "stream",
     "text": [
      "Original array: \n",
      "[[ 8 12  5 10 20]\n",
      " [ 9 20 14  4 12]\n",
      " [16 19 12 10 16]\n",
      " [19  9 10  3  6]\n",
      " [ 5 15 13 11 14]]\n",
      "The modified array: \n",
      "[[ 8 12  1 10 20]\n",
      " [ 9 20  1  4 12]\n",
      " [16 19  1 10 16]\n",
      " [19  9  1  3  6]\n",
      " [ 5 15  1 11 14]]\n"
     ]
    }
   ],
   "source": [
    "import numpy as np\n",
    "\n",
    "array = np.random.randint(1, 21, size=(5, 5))\n",
    "print(\"Original array: \")\n",
    "print(array)\n",
    "\n",
    "array[:, 2] = 1\n",
    "print(\"The modified array: \")\n",
    "print(array)"
   ]
  },
  {
   "cell_type": "markdown",
   "id": "ad8d2c7f",
   "metadata": {},
   "source": [
    "2. Create a NumPy array of shape (4, 4) with values from 1 to 16. Replace the diagonal elements with 0."
   ]
  },
  {
   "cell_type": "code",
   "execution_count": 7,
   "id": "6b5fea6c",
   "metadata": {},
   "outputs": [
    {
     "name": "stdout",
     "output_type": "stream",
     "text": [
      "Orginal array:\n",
      "[[ 1  2  3  4]\n",
      " [ 5  6  7  8]\n",
      " [ 9 10 11 12]\n",
      " [13 14 15 16]]\n",
      "Modified array:\n",
      "[[ 0  2  3  4]\n",
      " [ 5  0  7  8]\n",
      " [ 9 10  0 12]\n",
      " [13 14 15  0]]\n"
     ]
    }
   ],
   "source": [
    "array = np.arange(1, 17).reshape(4, 4)\n",
    "print(\"Orginal array:\")\n",
    "print(array)\n",
    "\n",
    "np.fill_diagonal(array, 0)\n",
    "print(\"Modified array:\")\n",
    "print(array)"
   ]
  },
  {
   "cell_type": "markdown",
   "id": "fdc8151f",
   "metadata": {},
   "source": [
    "### Assignment 2: Array Indexing and Slicing\n",
    "\n",
    "1. Create a NumPy array of shape (6, 6) with values from 1 to 36. Extract the sub-array consisting of the 3rd to 5th rows and 2nd to 4th columns."
   ]
  },
  {
   "cell_type": "code",
   "execution_count": 11,
   "id": "0343e561",
   "metadata": {},
   "outputs": [
    {
     "name": "stdout",
     "output_type": "stream",
     "text": [
      "Orginal array: \n",
      "[[ 1  2  3  4  5  6]\n",
      " [ 7  8  9 10 11 12]\n",
      " [13 14 15 16 17 18]\n",
      " [19 20 21 22 23 24]\n",
      " [25 26 27 28 29 30]\n",
      " [31 32 33 34 35 36]]\n",
      "The required sub-array:\n",
      " [[14 15 16]\n",
      " [20 21 22]\n",
      " [26 27 28]]\n"
     ]
    }
   ],
   "source": [
    "array = np.arange(1, 37).reshape(6, 6)\n",
    "print(\"Orginal array: \")\n",
    "print(array)\n",
    "\n",
    "print(f\"The required sub-array:\\n {array[2:5, 1:4]}\")"
   ]
  },
  {
   "cell_type": "markdown",
   "id": "6d88ce3f",
   "metadata": {},
   "source": [
    "2. Create a NumPy array of shape (5, 5) with random integers. Extract the elements on the border."
   ]
  },
  {
   "cell_type": "code",
   "execution_count": 17,
   "id": "b7b28692",
   "metadata": {},
   "outputs": [
    {
     "name": "stdout",
     "output_type": "stream",
     "text": [
      "The orginal array:\n",
      "[[20 11 28  3 28]\n",
      " [15 12 19  8 28]\n",
      " [20 20  7 17 17]\n",
      " [18 18 16 21  8]\n",
      " [ 9  4  5 11 23]]\n",
      "Border elements: \n",
      "[20 11 28  3 28  9  4  5 11 23 15 20 18 28 17  8]\n"
     ]
    }
   ],
   "source": [
    "array = np.random.randint(1, 31, size= (5, 5))\n",
    "print(\"The orginal array:\")\n",
    "print(array)\n",
    "\n",
    "border_ele = np.concatenate((array[0, :], array[-1, :], array[1:-1, 0], array[1:-1, -1]))\n",
    "print(\"Border elements: \")\n",
    "print(border_ele)"
   ]
  },
  {
   "cell_type": "markdown",
   "id": "36e4ef43",
   "metadata": {},
   "source": [
    "### Assignment 3: Array Operations\n",
    "\n",
    "1. Create two NumPy arrays of shape (3, 4) filled with random integers. Perform element-wise addition, subtraction, multiplication, and division."
   ]
  },
  {
   "cell_type": "code",
   "execution_count": 22,
   "id": "8d44e31f",
   "metadata": {},
   "outputs": [
    {
     "name": "stdout",
     "output_type": "stream",
     "text": [
      "Array1: \n",
      " [[ 8 20 12 15]\n",
      " [14  7  9  4]\n",
      " [ 1  4  9  9]]\n",
      "Array2: \n",
      " [[ 3  4 17  8]\n",
      " [ 7  4 18  6]\n",
      " [ 1  9  4  5]]\n",
      "Addition: \n",
      " [[11 24 29 23]\n",
      " [21 11 27 10]\n",
      " [ 2 13 13 14]]\n",
      "Substraction: \n",
      " [[ 5 16 -5  7]\n",
      " [ 7  3 -9 -2]\n",
      " [ 0 -5  5  4]]\n",
      "Multiplication: \n",
      " [[ 24  80 204 120]\n",
      " [ 98  28 162  24]\n",
      " [  1  36  36  45]]\n",
      "Division: \n",
      " [[2.66666667 5.         0.70588235 1.875     ]\n",
      " [2.         1.75       0.5        0.66666667]\n",
      " [1.         0.44444444 2.25       1.8       ]]\n"
     ]
    }
   ],
   "source": [
    "arr1 = np.random.randint(1, 21, size = (3, 4))\n",
    "arr2 = np.random.randint(1, 21, size = (3, 4))\n",
    "print(\"Array1: \\n\", arr1)\n",
    "print(\"Array2: \\n\", arr2)\n",
    "print(\"Addition: \\n\", arr1 + arr2)\n",
    "print(\"Substraction: \\n\", arr1 - arr2)\n",
    "print(\"Multiplication: \\n\", arr1 * arr2)\n",
    "print(\"Division: \\n\", arr1 / arr2)"
   ]
  },
  {
   "cell_type": "markdown",
   "id": "a16d4d50",
   "metadata": {},
   "source": [
    "2. Create a NumPy array of shape (4, 4) with values from 1 to 16. Compute the row-wise and column-wise sum."
   ]
  },
  {
   "cell_type": "code",
   "execution_count": 23,
   "id": "2ab858b9",
   "metadata": {},
   "outputs": [
    {
     "name": "stdout",
     "output_type": "stream",
     "text": [
      "Orginal array:\n",
      "[[ 1  2  3  4]\n",
      " [ 5  6  7  8]\n",
      " [ 9 10 11 12]\n",
      " [13 14 15 16]]\n",
      "Row-wise sum: \n",
      " [10 26 42 58]\n",
      "Column-wise sum: \n",
      " [28 32 36 40]\n"
     ]
    }
   ],
   "source": [
    "array = np.arange(1, 17).reshape((4, 4))\n",
    "print(\"Orginal array:\")\n",
    "print(array)\n",
    "\n",
    "row_sum = np.sum(array, axis = 1)\n",
    "column_sum = np.sum(array, axis = 0)\n",
    "\n",
    "print(\"Row-wise sum: \\n\", row_sum)\n",
    "print(\"Column-wise sum: \\n\", column_sum)"
   ]
  },
  {
   "cell_type": "markdown",
   "id": "550a57d4",
   "metadata": {},
   "source": [
    "### Assignment 4: Statistical Operations\n",
    "\n",
    "1. Create a NumPy array of shape (5, 5) filled with random integers. Compute the mean, median, standard deviation, and variance of the array."
   ]
  },
  {
   "cell_type": "code",
   "execution_count": 7,
   "id": "94a2474d",
   "metadata": {},
   "outputs": [
    {
     "name": "stdout",
     "output_type": "stream",
     "text": [
      "Orginal Array: \n",
      " [[18  4 24 25  3]\n",
      " [ 8  8 28 23 21]\n",
      " [30  8 18 15 26]\n",
      " [25 15  4 10 24]\n",
      " [ 6  5  8 20 20]]\n",
      "Mean:  15.84\n",
      "Median:  18.0\n",
      "Std Deviation:  8.521408334307187\n",
      "Variance:  72.61439999999999\n"
     ]
    }
   ],
   "source": [
    "array = np.random.randint(1, 31, size = (5, 5))\n",
    "print(\"Orginal Array: \\n\", array)\n",
    "\n",
    "print(\"Mean: \", np.mean(array))\n",
    "print(\"Median: \", np.median(array))\n",
    "print(\"Std Deviation: \", np.std(array))\n",
    "print(\"Variance: \", np.var(array))"
   ]
  },
  {
   "cell_type": "markdown",
   "id": "36ccef98",
   "metadata": {},
   "source": [
    "2. Create a NumPy array of shape (3, 3) with values from 1 to 9. Normalize the array (i.e., scale the values to have a mean of 0 and a standard deviation of 1)."
   ]
  },
  {
   "cell_type": "code",
   "execution_count": 10,
   "id": "ec6508c0",
   "metadata": {},
   "outputs": [
    {
     "name": "stdout",
     "output_type": "stream",
     "text": [
      "Orginal array: \n",
      " [[1 2 3]\n",
      " [4 5 6]\n",
      " [7 8 9]]\n",
      "Normalized array: \n",
      " [[-1.54919334 -1.161895   -0.77459667]\n",
      " [-0.38729833  0.          0.38729833]\n",
      " [ 0.77459667  1.161895    1.54919334]]\n"
     ]
    }
   ],
   "source": [
    "array = np.arange(1, 10).reshape(3, 3)\n",
    "print(\"Orginal array: \\n\", array)\n",
    "\n",
    "mean = np.mean(array)\n",
    "std_dev = np.std(array)\n",
    "normalized_array = (array - mean) / std_dev\n",
    "\n",
    "print(\"Normalized array: \\n\", normalized_array)"
   ]
  },
  {
   "cell_type": "markdown",
   "id": "2e76e819",
   "metadata": {},
   "source": [
    "### Assignment 5: Broadcasting\n",
    "\n",
    "1. Create a NumPy array of shape (3, 3) filled with random integers. Add a 1D array of shape (3,) to each row of the 2D array using broadcasting.\n",
    "2. Create a NumPy array of shape (4, 4) filled with random integers. Subtract a 1D array of shape (4,) from each column of the 2D array using broadcasting.\n",
    "\n",
    "### Assignment 6: Linear Algebra\n",
    "\n",
    "1. Create a NumPy array of shape (3, 3) representing a matrix. Compute its determinant, inverse, and eigenvalues.\n",
    "2. Create two NumPy arrays of shape (2, 3) and (3, 2). Perform matrix multiplication on these arrays.\n",
    "\n",
    "### Assignment 7: Advanced Array Manipulation\n",
    "\n",
    "1. Create a NumPy array of shape (3, 3) with values from 1 to 9. Reshape the array to shape (1, 9) and then to shape (9, 1).\n",
    "2. Create a NumPy array of shape (5, 5) filled with random integers. Flatten the array and then reshape it back to (5, 5).\n",
    "\n",
    "### Assignment 8: Fancy Indexing and Boolean Indexing\n",
    "\n",
    "1. Create a NumPy array of shape (5, 5) filled with random integers. Use fancy indexing to extract the elements at the corners of the array.\n",
    "2. Create a NumPy array of shape (4, 4) filled with random integers. Use boolean indexing to set all elements greater than 10 to 10.\n",
    "\n",
    "### Assignment 9: Structured Arrays\n",
    "\n",
    "1. Create a structured array with fields 'name' (string), 'age' (integer), and 'weight' (float). Add some data and sort the array by age.\n",
    "2. Create a structured array with fields 'x' and 'y' (both integers). Add some data and compute the Euclidean distance between each pair of points.\n",
    "\n",
    "### Assignment 10: Masked Arrays\n",
    "\n",
    "1. Create a masked array of shape (4, 4) with random integers and mask the elements greater than 10. Compute the sum of the unmasked elements.\n",
    "2. Create a masked array of shape (3, 3) with random integers and mask the diagonal elements. Replace the masked elements with the mean of the unmasked elements."
   ]
  },
  {
   "cell_type": "markdown",
   "id": "e0ba8908",
   "metadata": {},
   "source": []
  }
 ],
 "metadata": {
  "kernelspec": {
   "display_name": "Python 3",
   "language": "python",
   "name": "python3"
  },
  "language_info": {
   "codemirror_mode": {
    "name": "ipython",
    "version": 3
   },
   "file_extension": ".py",
   "mimetype": "text/x-python",
   "name": "python",
   "nbconvert_exporter": "python",
   "pygments_lexer": "ipython3",
   "version": "3.12.0"
  }
 },
 "nbformat": 4,
 "nbformat_minor": 5
}
